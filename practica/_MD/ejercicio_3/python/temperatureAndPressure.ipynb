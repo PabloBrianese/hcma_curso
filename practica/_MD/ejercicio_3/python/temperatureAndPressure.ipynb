{
 "cells": [
  {
   "cell_type": "markdown",
   "source": [
    "Definimos las funciones que necesitamos para el procesamiento de datos."
   ],
   "metadata": {}
  },
  {
   "cell_type": "code",
   "execution_count": 50,
   "source": [
    "import pandas as pd\n",
    "\n",
    "\n",
    "def get_filepath(temperature, volume, sufix):\n",
    "  from glob import glob\n",
    "  folder = f\"../DatosArgonLJ_Temp{temperature}_Vol{volume}/\"\n",
    "  filepath = glob(folder + '*' + sufix)[0]\n",
    "\n",
    "  return filepath\n",
    "\n",
    "\n",
    "def get_thermodinamic_df(filepath):\n",
    "  return pd.read_csv(\n",
    "    filepath,\n",
    "    sep=' ',\n",
    "    header=None,\n",
    "    skiprows=1,\n",
    "    names=[\n",
    "      'tiempo [fms]',\n",
    "      'Temperatura [K]',\n",
    "      'EnergiaTotal [Kcal/mol]',\n",
    "      'EnergiaCineticaTotal [Kcal/mol]',\n",
    "      'Presion [Atm]',\n",
    "      'Volumen [ang**3]',\n",
    "      'Densidad [g cm**-3]'\n",
    "    ]\n",
    "  )"
   ],
   "outputs": [],
   "metadata": {}
  },
  {
   "cell_type": "markdown",
   "source": [
    "Extraemos las mediciones de presión de los archivos de salida de LAMMPS."
   ],
   "metadata": {}
  },
  {
   "cell_type": "code",
   "execution_count": 55,
   "source": [
    "volume = 9000000\n",
    "sufix = '__termodinamica'\n",
    "temperatures = tuple(range(100, 2000 + 1, 100,))\n",
    "pressures = []\n",
    "\n",
    "for temperature in temperatures:\n",
    "  thermodinamic = get_thermodinamic_df(get_filepath(temperature, volume, sufix))\n",
    "\n",
    "  pressure = thermodinamic['Presion [Atm]'].mean()\n",
    "  pressures.append(pressure)"
   ],
   "outputs": [],
   "metadata": {}
  },
  {
   "cell_type": "markdown",
   "source": [
    "Graficamos estos datos."
   ],
   "metadata": {}
  },
  {
   "cell_type": "code",
   "execution_count": 56,
   "source": [
    "df = pd.DataFrame({'Temperatura [K]': temperatures, 'Presion [Atm]': pressures})\n",
    "df.plot(x='Temperatura [K]', y='Presion [Atm]')"
   ],
   "outputs": [
    {
     "output_type": "execute_result",
     "data": {
      "text/plain": [
       "<AxesSubplot:xlabel='Temperatura [K]'>"
      ]
     },
     "metadata": {},
     "execution_count": 56
    },
    {
     "output_type": "display_data",
     "data": {
      "text/plain": [
       "<Figure size 432x288 with 1 Axes>"
      ],
      "image/png": "[encoded data removed]"
     },
     "metadata": {
      "needs_background": "light"
     }
    }
   ],
   "metadata": {}
  },
  {
   "cell_type": "markdown",
   "source": [
    "Podemos observar que existe una relación lineal entre la temperatura del gas de Argon y la presión que ejerce."
   ],
   "metadata": {}
  }
 ],
 "metadata": {
  "orig_nbformat": 4,
  "language_info": {
   "name": "python"
  }
 },
 "nbformat": 4,
 "nbformat_minor": 2
}